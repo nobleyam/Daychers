{
 "cells": [
  {
   "cell_type": "markdown",
   "id": "9b10c067",
   "metadata": {},
   "source": [
    "📘 Use Case: Finding all people connected to a user in a social network (Friend-of-a-Friend traversal)\n"
   ]
  },
  {
   "cell_type": "code",
   "execution_count": 1,
   "id": "040dde56",
   "metadata": {},
   "outputs": [],
   "source": [
    "# Sample social network graph (adjacency list)\n",
    "social_graph = {\n",
    "    \"Alice\": [\"Bob\", \"Charlie\"],\n",
    "    \"Bob\": [\"Alice\", \"David\"],\n",
    "    \"Charlie\": [\"Alice\", \"Eve\"],\n",
    "    \"David\": [\"Bob\", \"Frank\"],\n",
    "    \"Eve\": [\"Charlie\"],\n",
    "    \"Frank\": [\"David\"],\n",
    "    \"Grace\": []  # Disconnected user\n",
    "}\n"
   ]
  },
  {
   "cell_type": "markdown",
   "id": "769b81af",
   "metadata": {},
   "source": [
    "🔍 Recursive DFS Function\n"
   ]
  },
  {
   "cell_type": "code",
   "execution_count": 2,
   "id": "5d5d42c7",
   "metadata": {},
   "outputs": [],
   "source": [
    "def dfs_social_network(graph, user, visited=None):\n",
    "    if visited is None:\n",
    "        visited = set()\n",
    "    visited.add(user)\n",
    "    for friend in graph.get(user, []):\n",
    "        if friend not in visited:\n",
    "            dfs_social_network(graph, friend, visited)\n",
    "    return visited\n"
   ]
  },
  {
   "cell_type": "code",
   "execution_count": 3,
   "id": "6ec68aa2",
   "metadata": {},
   "outputs": [
    {
     "name": "stdout",
     "output_type": "stream",
     "text": [
      "People connected to Alice: {'Bob', 'Alice', 'Eve', 'Frank', 'David', 'Charlie'}\n"
     ]
    }
   ],
   "source": [
    "connected_people = dfs_social_network(social_graph, \"Alice\")\n",
    "print(\"People connected to Alice:\", connected_people)\n"
   ]
  },
  {
   "cell_type": "markdown",
   "id": "89be963d",
   "metadata": {},
   "source": [
    "## 📌 Why This Is Useful in Data Science\n",
    "- In social network analysis, we often want to find all users reachable from a given person — useful for community detection, influence tracking, or recommender systems.\n",
    "\n",
    "- This also applies to graph databases (e.g., Neo4j) and network libraries like NetworkX."
   ]
  },
  {
   "cell_type": "markdown",
   "id": "941b2c4a",
   "metadata": {},
   "source": []
  }
 ],
 "metadata": {
  "kernelspec": {
   "display_name": "sklearn_env",
   "language": "python",
   "name": "python3"
  },
  "language_info": {
   "codemirror_mode": {
    "name": "ipython",
    "version": 3
   },
   "file_extension": ".py",
   "mimetype": "text/x-python",
   "name": "python",
   "nbconvert_exporter": "python",
   "pygments_lexer": "ipython3",
   "version": "3.10.16"
  }
 },
 "nbformat": 4,
 "nbformat_minor": 5
}
