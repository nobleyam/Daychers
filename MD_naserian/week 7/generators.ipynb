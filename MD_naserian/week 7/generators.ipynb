{
 "cells": [
  {
   "cell_type": "markdown",
   "id": "a33f1854",
   "metadata": {},
   "source": [
    " # 🔁 What is a Generator in Python?\n",
    "* A generator is a special type of iterator that allows you to iterate through a sequence of data without storing the entire sequence in memory.\n",
    "\n",
    " * Created using **yield** instead of **return**.\n",
    "\n",
    "* Efficient for working with **large datasets**.\n",
    "\n",
    "* Helps in streaming or lazy evaluation — data is generated one item at a time, on demand."
   ]
  },
  {
   "cell_type": "markdown",
   "id": "da65e455",
   "metadata": {},
   "source": []
  },
  {
   "cell_type": "code",
   "execution_count": 1,
   "id": "8347898b",
   "metadata": {},
   "outputs": [
    {
     "name": "stdout",
     "output_type": "stream",
     "text": [
      "0\n",
      "1\n",
      "2\n"
     ]
    }
   ],
   "source": [
    "# 🧪 Python Generators - Data Science Examples\n",
    "\n",
    "# 🟢 What is a Generator?\n",
    "\n",
    "# A generator is a special function that returns an iterator.\n",
    "# Instead of returning all the data at once, it yields one item at a time.\n",
    "# This is especially useful when dealing with large datasets.\n",
    "\n",
    "def simple_generator():\n",
    "    for i in range(3):\n",
    "        yield i\n",
    "\n",
    "gen = simple_generator()\n",
    "print(next(gen))  # Output: 0\n",
    "print(next(gen))  # Output: 1\n",
    "print(next(gen))  # Output: 2\n",
    "# print(next(gen))  # Uncommenting this will raise StopIteration\n"
   ]
  },
  {
   "cell_type": "code",
   "execution_count": 2,
   "id": "a3bab4d9",
   "metadata": {},
   "outputs": [],
   "source": [
    "# 📊 Example 1: Reading a Large CSV File Using a Generator\n",
    "\n",
    "# Let's assume you have a very large CSV file and you want to process it row by row without loading everything into memory.\n",
    "\n",
    "import csv\n",
    "\n",
    "def read_large_csv(file_path):\n",
    "    with open(file_path, mode='r') as file:\n",
    "        reader = csv.DictReader(file)\n",
    "        for row in reader:\n",
    "            yield row  # Yield one row at a time\n",
    "\n",
    "# Example usage (assuming 'large_data.csv' exists with a column 'value')\n",
    "# for row in read_large_csv('large_data.csv'):\n",
    "#     if float(row['value']) > 100:\n",
    "#         print(row)\n"
   ]
  },
  {
   "cell_type": "code",
   "execution_count": 2,
   "id": "0914da85",
   "metadata": {},
   "outputs": [
    {
     "name": "stdout",
     "output_type": "stream",
     "text": [
      "[0, 1, 2, 3, 4]\n",
      "[5, 6, 7, 8, 9]\n",
      "[10, 11, 12, 13, 14]\n",
      "[15, 16, 17, 18, 19]\n"
     ]
    }
   ],
   "source": [
    "# ⚙️ Example 2: Batching Data with a Generator\n",
    "\n",
    "# In machine learning, we often feed data into models in batches.\n",
    "# Here's a generator that yields data in batches.\n",
    "\n",
    "def batch_generator(data, batch_size):\n",
    "    for i in range(0, len(data), batch_size):\n",
    "        yield data[i:i + batch_size]\n",
    "\n",
    "# Sample data\n",
    "data = list(range(20))\n",
    "\n",
    "# Print data in batches of 5\n",
    "for batch in batch_generator(data, 5):\n",
    "    print(batch)\n"
   ]
  },
  {
   "cell_type": "code",
   "execution_count": 3,
   "id": "422eab9e",
   "metadata": {},
   "outputs": [
    {
     "name": "stdout",
     "output_type": "stream",
     "text": [
      "Alice scored 88\n",
      "Bob scored 92\n",
      "Charlie scored 85\n",
      "David scored 90\n",
      "Eva scored 95\n"
     ]
    }
   ],
   "source": [
    "# 📚 Example 3: Using a Generator with a Pandas DataFrame\n",
    "\n",
    "import pandas as pd\n",
    "\n",
    "# Create a mock dataframe\n",
    "df = pd.DataFrame({\n",
    "    'name': ['Alice', 'Bob', 'Charlie', 'David', 'Eva'],\n",
    "    'score': [88, 92, 85, 90, 95]\n",
    "})\n",
    "\n",
    "# Generator to yield rows one by one\n",
    "def dataframe_row_generator(df):\n",
    "    for _, row in df.iterrows():\n",
    "        yield row\n",
    "\n",
    "# Use the generator\n",
    "for row in dataframe_row_generator(df):\n",
    "    print(f\"{row['name']} scored {row['score']}\")\n"
   ]
  },
  {
   "cell_type": "code",
   "execution_count": null,
   "id": "07c3be36",
   "metadata": {},
   "outputs": [],
   "source": []
  }
 ],
 "metadata": {
  "kernelspec": {
   "display_name": "sklearn_env",
   "language": "python",
   "name": "python3"
  },
  "language_info": {
   "codemirror_mode": {
    "name": "ipython",
    "version": 3
   },
   "file_extension": ".py",
   "mimetype": "text/x-python",
   "name": "python",
   "nbconvert_exporter": "python",
   "pygments_lexer": "ipython3",
   "version": "3.10.16"
  }
 },
 "nbformat": 4,
 "nbformat_minor": 5
}
